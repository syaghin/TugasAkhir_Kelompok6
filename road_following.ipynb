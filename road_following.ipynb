{
  "cells": [
    {
      "cell_type": "markdown",
      "metadata": {
        "id": "HRIZS8w-PTrc"
      },
      "source": [
        "First, create the model. This must match the model used in the interactive training notebook."
      ]
    },
    {
      "cell_type": "code",
      "execution_count": null,
      "metadata": {
        "id": "tUBkk87MPTre"
      },
      "outputs": [],
      "source": [
        "import cv2\n",
        "import torch\n",
        "import torchvision\n",
        "\n",
        "CATEGORIES = ['apex']\n",
        "\n",
        "device = torch.device('cuda')\n",
        "model = torchvision.models.resnet18(pretrained=False)\n",
        "model.fc = torch.nn.Linear(512, 2 * len(CATEGORIES))\n",
        "model = model.cuda().eval().half()"
      ]
    },
    {
      "cell_type": "markdown",
      "metadata": {
        "id": "Kl96V2YYPTrf"
      },
      "source": [
        "Next, load the saved model.  Enter the model path you used to save."
      ]
    },
    {
      "cell_type": "code",
      "execution_count": null,
      "metadata": {
        "id": "f-fK7o2LPTrf"
      },
      "outputs": [],
      "source": [
        "model.load_state_dict(torch.load('road_following_model.pth'))"
      ]
    },
    {
      "cell_type": "markdown",
      "metadata": {
        "id": "77eBGMI9PTrg"
      },
      "source": [
        "Convert and optimize the model using ``torch2trt`` for faster inference with TensorRT.  Please see the [torch2trt](https://github.com/NVIDIA-AI-IOT/torch2trt) readme for more details.\n",
        "\n",
        "> This optimization process can take a couple minutes to complete."
      ]
    },
    {
      "cell_type": "code",
      "execution_count": null,
      "metadata": {
        "id": "V8H8X9NLPTrg"
      },
      "outputs": [],
      "source": [
        "from torch2trt import torch2trt\n",
        "\n",
        "data = torch.zeros((1, 3, 224, 224)).cuda().half()\n",
        "\n",
        "model_trt = torch2trt(model, [data], fp16_mode=True)"
      ]
    },
    {
      "cell_type": "markdown",
      "metadata": {
        "id": "HZATyoRePTrg"
      },
      "source": [
        "Save the optimized model using the cell below"
      ]
    },
    {
      "cell_type": "code",
      "execution_count": null,
      "metadata": {
        "id": "bX25fvvrPTrg"
      },
      "outputs": [],
      "source": [
        "torch.save(model_trt.state_dict(), 'road_following_model_trt.pth')"
      ]
    },
    {
      "cell_type": "markdown",
      "metadata": {
        "id": "paFSokfCPTrh"
      },
      "source": [
        "Load the optimized model by executing the cell below"
      ]
    },
    {
      "cell_type": "code",
      "execution_count": null,
      "metadata": {
        "id": "haF0IklFPTrh"
      },
      "outputs": [],
      "source": [
        "import torch\n",
        "from torch2trt import TRTModule\n",
        "\n",
        "model_trt = TRTModule()\n",
        "model_trt.load_state_dict(torch.load('road_following_model_trt.pth'))"
      ]
    },
    {
      "cell_type": "markdown",
      "metadata": {
        "id": "BTm1ifhRPTrh"
      },
      "source": [
        "Create the racecar class"
      ]
    },
    {
      "cell_type": "code",
      "execution_count": null,
      "metadata": {
        "id": "q2vDeJy-PTrh"
      },
      "outputs": [],
      "source": [
        "from jetracer.nvidia_racecar import NvidiaRacecar\n",
        "\n",
        "car = NvidiaRacecar()"
      ]
    },
    {
      "cell_type": "markdown",
      "metadata": {
        "id": "xlyLffnFPTrh"
      },
      "source": [
        "Create the camera class."
      ]
    },
    {
      "cell_type": "code",
      "execution_count": null,
      "metadata": {
        "id": "6UN75DEmPTri"
      },
      "outputs": [],
      "source": [
        "from jetcam.csi_camera import CSICamera\n",
        "\n",
        "camera = CSICamera(width=224, height=224, capture_fps=65)"
      ]
    },
    {
      "cell_type": "markdown",
      "metadata": {
        "id": "HJ2h9PXMPTri"
      },
      "source": [
        "Create Live Widget"
      ]
    },
    {
      "cell_type": "code",
      "execution_count": null,
      "metadata": {
        "colab": {
          "referenced_widgets": [
            "5cda4d8cdc384faa97417505334c739c"
          ]
        },
        "id": "E5LyoixDPTri",
        "outputId": "77e7df80-2db1-4cca-8165-2e411aef9c63"
      },
      "outputs": [
        {
          "data": {
            "application/vnd.jupyter.widget-view+json": {
              "model_id": "5cda4d8cdc384faa97417505334c739c",
              "version_major": 2,
              "version_minor": 0
            },
            "text/plain": [
              "VBox(children=(Image(value=b'', format='jpeg', height='224', width='224'), ToggleButtons(description='state', …"
            ]
          },
          "metadata": {},
          "output_type": "display_data"
        }
      ],
      "source": [
        "# with live widget\n",
        "import threading\n",
        "import time\n",
        "import numpy as np\n",
        "from utils import preprocess\n",
        "import torch.nn.functional as F\n",
        "import matplotlib.pyplot as plt\n",
        "\n",
        "import cv2\n",
        "import ipywidgets\n",
        "from IPython.display import display\n",
        "from jetcam.utils import bgr8_to_jpeg\n",
        "from jupyter_clickable_image_widget import ClickableImageWidget\n",
        "\n",
        "Kp = 1.7\n",
        "Kd = 6\n",
        "car.steering_gain = 1.0\n",
        "car.throttle = 0.75\n",
        "car.throttle_gain=1.0\n",
        "camera.running = True\n",
        "\n",
        "# unobserve all callbacks from camera in case we are running this cell for second time\n",
        "camera.unobserve_all()\n",
        "\n",
        "# create image preview\n",
        "prediction_widget = ipywidgets.Image(format='jpeg', width=camera.width, height=camera.height)\n",
        "state_widget = ipywidgets.ToggleButtons(options=['stop', 'live'], description='state', value='stop')\n",
        "\n",
        "def live(state_widget, model, camera, prediction_widget):\n",
        "    last_x = 0\n",
        "    while state_widget.value == 'live':\n",
        "        start_time = time.time() # start time of the loop\n",
        "        image = camera.value\n",
        "        preprocessed = preprocess(image).half()\n",
        "        output = model(preprocessed).detach().cpu().numpy().flatten()\n",
        "        x = float(output[0])\n",
        "\n",
        "        # with PD controller\n",
        "        car.steering = - ( x * Kp + (x - last_x) * Kd)\n",
        "        last_x = x\n",
        "\n",
        "        steering_angle = x * 30.0\n",
        "        steering_data.append(steering_angle) # Store steering angle data\n",
        "\n",
        "        fps = 1.0 / (time.time() - start_time)\n",
        "        fps_data.append(fps) # Store FPS data\n",
        "\n",
        "        str_info = \"Deg %0.1f'\" % steering_angle\n",
        "\n",
        "        x_int = int(camera.width * (x / 2.0 + 0.5))\n",
        "        y_int = int(camera.height * 0.5)\n",
        "\n",
        "        str1 = \" FPS:%d\" % int(fps)\n",
        "        str_info += str1\n",
        "\n",
        "        prediction = image.copy()\n",
        "        prediction = cv2.circle(prediction, (x, y), 8, (255, 0, 0), 3)\n",
        "        prediction = cv2.line(prediction,(x,y),(112,112),(0,0,255),3)\n",
        "        prediction = cv2.circle(prediction, (112,112), 8, (255, 0, 0), 3)\n",
        "        prediction = cv2.putText(prediction,str,(0,220),cv2.FONT_HERSHEY_PLAIN,1,(255,255,255))\n",
        "        prediction_widget.value = bgr8_to_jpeg(prediction)\n",
        "\n",
        "def start_live(change):\n",
        "    if change['new'] == 'live':\n",
        "        execute_thread = threading.Thread(target=live, args=(state_widget, model_trt, camera, prediction_widget))\n",
        "        execute_thread.start()\n",
        "    else :\n",
        "        time.sleep(0.1)\n",
        "        car.steering = 0\n",
        "        car.throttle = 0\n",
        "        car.manual = 0\n",
        "\n",
        "state_widget.observe(start_live, names='value')\n",
        "\n",
        "live_execution_widget = ipywidgets.VBox([\n",
        "    prediction_widget,\n",
        "    state_widget\n",
        "])\n",
        "\n",
        "display(live_execution_widget)\n",
        "\n",
        "# Plot data\n",
        "def plot_data():\n",
        "    plt.figure(figsize=(10, 7))\n",
        "    plt.subplot(2, 1, 1)\n",
        "    plt.plot(steering_data)\n",
        "    plt.title('Steering Angle Over Time')\n",
        "    plt.xlabel('Time')\n",
        "    plt.ylabel('Steering Angle (degrees)')\n",
        "\n",
        "    plt.subplot(2, 1, 2)\n",
        "    plt.plot(fps_data)\n",
        "    plt.title('FPS Over Time')\n",
        "    plt.xlabel('Time')\n",
        "    plt.ylabel('FPS')\n",
        "    plt.tight_layout()\n",
        "    plt.show()\n",
        "    print_statistics()\n",
        "\n",
        "def print_statistics():\n",
        "    if steering_data:\n",
        "        print(f'Steering Angle: Max = {max(steering_data):.2f}, Min = {min(steering_data):.2f}, Avg = {np.mean(steering_data):.2f}')\n",
        "    if fps_data:\n",
        "        print(f'FPS: Max = {max(fps_data):.2f}, Min = {min(fps_data):.2f}, Avg = {np.mean(fps_data):.2f}')\n",
        "\n",
        "def stop_live(change):\n",
        "    if change['new'] == 'stop':\n",
        "        plot_data()\n",
        "\n",
        "state_widget.observe(stop_live, names='value')"
      ]
    },
    {
      "cell_type": "code",
      "execution_count": null,
      "metadata": {
        "id": "95CsGchIPTri"
      },
      "outputs": [],
      "source": [
        "import time\n",
        "\n",
        "camera.unobserve_all()\n",
        "\n",
        "time.sleep(0.1)",
        "\n",
        "car.steering = 0\n",
        "car.throttle = 0\n",
        "car.manual = 0"
      ]
    },
    {
      "cell_type": "code",
      "execution_count": null,
      "metadata": {
        "id": "_nR10I2EPTrj"
      },
      "outputs": [],
      "source": []
    }
  ],
  "metadata": {
    "kernelspec": {
      "display_name": "Python 3",
      "language": "python",
      "name": "python3"
    },
    "language_info": {
      "codemirror_mode": {
        "name": "ipython",
        "version": 3
      },
      "file_extension": ".py",
      "mimetype": "text/x-python",
      "name": "python",
      "nbconvert_exporter": "python",
      "pygments_lexer": "ipython3",
      "version": "3.6.9"
    },
    "colab": {
      "provenance": []
    }
  },
  "nbformat": 4,
  "nbformat_minor": 0
}

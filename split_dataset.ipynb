{
 "cells": [
  {
   "cell_type": "code",
   "execution_count": 1,
   "id": "517ae54a",
   "metadata": {},
   "outputs": [],
   "source": [
    "import pandas as pd\n",
    "import shutil\n",
    "import os\n",
    "\n",
    "# Path to the dataset folder\n",
    "dataset_folder = '/home/jetson/datasets/folder_tujuan'\n",
    "\n",
    "# Load the dataset\n",
    "annotations_file = os.path.join(dataset_folder, 'annotations.csv')\n",
    "df = pd.read_csv(annotations_file, header=None, names=['image_id', 'steering', 'throttle'])\n",
    "\n",
    "# Function to generate image paths based on image IDs\n",
    "def generate_image_path(image_id):\n",
    "    return os.path.join(dataset_folder, f\"{image_id}.jpg\")  # Ubah ekstensi file sesuai dengan ekstensi gambar yang digunakan\n",
    "\n",
    "# Add a new column for image paths\n",
    "df['image_path'] = df['image_id'].apply(generate_image_path)\n",
    "\n",
    "# Shuffle the dataset\n",
    "df = df.sample(frac=1, random_state=42)\n",
    "\n",
    "# Calculate the size of each split\n",
    "total_samples = len(df)\n",
    "train_size = int(0.8 * total_samples)\n",
    "valid_size = int(0.1 * total_samples)\n",
    "\n",
    "# Split the dataset\n",
    "train_df = df[:train_size]\n",
    "valid_df = df[train_size:train_size + valid_size]\n",
    "test_df = df[train_size + valid_size:]\n",
    "\n",
    "# Function to move the images to their respective folders\n",
    "def move_images(df, folder):\n",
    "    # Create the folder if it doesn't exist\n",
    "    os.makedirs(folder, exist_ok=True)\n",
    "    for file_name in df['image_path']:\n",
    "        # Move only if the file exists\n",
    "        if os.path.exists(file_name):\n",
    "            shutil.move(file_name, os.path.join(folder, os.path.basename(file_name)))\n",
    "        else:\n",
    "            print(f\"File not found: {file_name}\")\n",
    "\n",
    "# Move the images to their respective folders\n",
    "move_images(train_df, '/home/jetson/datasets/training_surma')\n",
    "move_images(valid_df, '/home/jetson/datasets/validation_surma')\n",
    "move_images(test_df, '/home/jetson/datasets/testing_surma')"
   ]
  },
  {
   "cell_type": "code",
   "execution_count": 2,
   "id": "d9bc7095",
   "metadata": {},
   "outputs": [],
   "source": [
    "train_df[['image_id', 'steering', 'throttle']].to_csv('/home/jetson/datasets/training_surma/annotations.csv', index=False)\n",
    "valid_df[['image_id', 'steering', 'throttle']].to_csv('/home/jetson/datasets/validation_surma/annotations.csv', index=False)\n",
    "test_df[['image_id', 'steering', 'throttle']].to_csv('/home/jetson/datasets/testing_surma/annotations.csv', index=False)"
   ]
  },
  {
   "cell_type": "code",
   "execution_count": null,
   "id": "1a8d1539",
   "metadata": {},
   "outputs": [],
   "source": []
  }
 ],
 "metadata": {
  "kernelspec": {
   "display_name": "Python 3",
   "language": "python",
   "name": "python3"
  },
  "language_info": {
   "codemirror_mode": {
    "name": "ipython",
    "version": 3
   },
   "file_extension": ".py",
   "mimetype": "text/x-python",
   "name": "python",
   "nbconvert_exporter": "python",
   "pygments_lexer": "ipython3",
   "version": "3.6.9"
  }
 },
 "nbformat": 4,
 "nbformat_minor": 5
}
